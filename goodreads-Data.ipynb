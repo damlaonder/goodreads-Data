{
 "cells": [
  {
   "cell_type": "code",
   "execution_count": 10,
   "metadata": {},
   "outputs": [
    {
     "name": "stdout",
     "output_type": "stream",
     "text": [
      "['Book Id', 'Title', 'Author', 'Author l-f', 'Additional Authors', 'ISBN', 'ISBN13', 'My Rating', 'Average Rating', 'Publisher', 'Binding', 'Number of Pages', 'Year Published', 'Original Publication Year', 'Date Read', 'Date Added', 'Bookshelves', 'Bookshelves with positions', 'Exclusive Shelf', 'My Review', 'Spoiler', 'Private Notes', 'Read Count', 'Owned Copies']\n"
     ]
    }
   ],
   "source": [
    "\n",
    "import csv\n",

    "file_path ='goodreads_library_export.csv'\n",
    "\n",
    "# open the file \n",
    "with open(file_path, 'r') as f:\n",
    "    # parse throught it * some values contain commas - fix this \n",
    "    goodreadsLibrary = csv.DictReader(f, quotechar='\"')\n",
    "    \n",
    "    #list each column name \n",
    "    print(goodreadsLibrary.fieldnames)\n",
    "\n",
    "    \n",
    "\n"
   ]
  },
  {
   "cell_type": "code",
   "execution_count": 11,
   "metadata": {},
   "outputs": [
    {
     "name": "stdout",
     "output_type": "stream",
     "text": [
      "in 2022: {'jan': 629, 'feb': 631, 'mar': 289, 'apr': 141, 'may': 179, 'june': 1091, 'july': 669, 'aug': 368, 'sept': 0, 'oct': 0, 'nov': 474, 'dec': 871}\n",
      "in 2023: {'jan': 858, 'feb': 246, 'mar': 0, 'apr': 128, 'may': 304, 'june': 1201, 'july': 806, 'aug': 409, 'sept': 240, 'oct': 0, 'nov': 0, 'dec': 0}\n"
     ]
    }
   ],
   "source": [
    "# making a dictionary with number of pages read in each month \n",
    "\n",

    "# open the file \n",
    "with open(file_path, 'r') as f:\n",
    "    # parse throught it * some values contain commas - fix this \n",
    "    goodreadsLibrary = csv.DictReader(f, quotechar='\"')\n",
    "    # create dict for books read\n",
    "    booksRead={}\n",
    "    # loop over a file, line-by-line\n",
    "    for i, row in enumerate(goodreadsLibrary):\n",
    "        if (row['Date Read'] ==''):\n",
    "            pass\n",
    "        else:\n",
    "            booksRead[row['Date Read']] = int(row['Number of Pages'])\n",
    "            #print((row['Date Read']) + \" \" + row['Number of Pages'])\n",
    "\n",
    "    #creates dicts for 2022 and 2023\n",
    "    monthlyPages22={'jan': 0, 'feb': 0, 'mar': 0, 'apr':0, 'may': 0, 'june': 0, \n",
    "                  'july': 0, 'aug':0, 'sept':0, 'oct':0, 'nov':0, 'dec':0} \n",
    "    monthlyPages23={'jan': 0, 'feb': 0, 'mar': 0, 'apr':0, 'may': 0, 'june': 0, \n",
    "                    'july': 0, 'aug':0, 'sept':0, 'oct':0, 'nov':0, 'dec':0,}\n",
    "    \n",
    "    for d,p in booksRead.items():\n",
    "        # 2022\n",
    "        if d.startswith('2022/01'):\n",
    "            monthlyPages22['jan']+=p\n",
    "        elif d.startswith('2022/02'):\n",
    "            monthlyPages22['feb']+=p\n",
    "        elif d.startswith('2022/03'):\n",
    "            monthlyPages22['mar']+=p\n",
    "        elif d.startswith('2022/04'):\n",
    "            monthlyPages22['apr']+=p\n",
    "        elif d.startswith('2022/05'):\n",
    "            monthlyPages22['may']+=p\n",
    "        elif d.startswith('2022/06'):\n",
    "            monthlyPages22['june']+=p\n",
    "        elif d.startswith('2022/07'):\n",
    "            monthlyPages22['july']+=p\n",
    "        elif d.startswith('2022/08'):\n",
    "            monthlyPages22['aug']+=p\n",
    "        elif d.startswith('2022/09'):\n",
    "            monthlyPages22['sept']+=p\n",
    "        elif d.startswith('2022/10'):\n",
    "            monthlyPages22['oct']+=p\n",
    "        elif d.startswith('2022/11'):\n",
    "            monthlyPages22['nov']+=p\n",
    "        elif d.startswith('2022/12'):\n",
    "            monthlyPages22['dec']+=p\n",
    "\n",
    "        #2023\n",
    "        if d.startswith('2023/01'):\n",
    "            monthlyPages23['jan']+=p\n",
    "        elif d.startswith('2023/02'):\n",
    "            monthlyPages23['feb']+=p\n",
    "        elif d.startswith('2023/03'):\n",
    "            monthlyPages23['mar']+=p\n",
    "        elif d.startswith('2023/04'):\n",
    "            monthlyPages23['apr']+=p\n",
    "        elif d.startswith('2023/05'):\n",
    "            monthlyPages23['may']+=p\n",
    "        elif d.startswith('2023/06'):\n",
    "            monthlyPages23['june']+=p\n",
    "        elif d.startswith('2023/07'):\n",
    "            monthlyPages23['july']+=p\n",
    "        elif d.startswith('2023/08'):\n",
    "            monthlyPages23['aug']+=p\n",
    "        elif d.startswith('2023/09'):\n",
    "            monthlyPages23['sept']+=p\n",
    "        elif d.startswith('2023/10'):\n",
    "            monthlyPages23['oct']+=p\n",
    "        elif d.startswith('2023/11'):\n",
    "            monthlyPages23['nov']+=p\n",
    "        elif d.startswith('2023/12'):\n",
    "            monthlyPages23['dec']+=p\n",
    "\n",
    "\n",
    "    \n",
    "#print(booksRead)\n",
    "print(\"in 2022: \" + str(monthlyPages22))\n",
    "print(\"in 2023: \" + str(monthlyPages23))"
   ]
  },
  {
   "cell_type": "code",
   "execution_count": 12,
   "metadata": {},
   "outputs": [
    {
     "data": {
      "text/plain": [
       "1091"
      ]
     },
     "execution_count": 12,
     "metadata": {},
     "output_type": "execute_result"
    }
   ],
   "source": [
    "max(monthlyPages22.values())"
   ]
  },
  {
   "cell_type": "code",
   "execution_count": 13,
   "metadata": {},
   "outputs": [
    {
     "data": {
      "text/plain": [
       "0"
      ]
     },
     "execution_count": 13,
     "metadata": {},
     "output_type": "execute_result"
    }
   ],
   "source": [
    "min(monthlyPages22.values())"
   ]
  },
  {
   "cell_type": "code",
   "execution_count": 15,
   "metadata": {},
   "outputs": [
    {
     "name": "stdout",
     "output_type": "stream",
     "text": [
      "Counter({'201': 37, '202': 14, '200': 14, '199': 7, '198': 4, '192': 3, '181': 2, '184': 2, '197': 2, '195': 2, '186': 1, '189': 1, '524': 1})\n",
      "{'1990': 7, '2010': 37, '1810': 2, '2020': 14, '1840': 2, '1980': 4, '1860': 1, '2000': 14, '1920': 3, '1970': 2, '1890': 1, '1950': 2, '524': 1}\n",
      "{'1810': 2, '1840': 2, '1860': 1, '1890': 1, '1920': 3, '1950': 2, '1970': 2, '1980': 4, '1990': 7, '2000': 14, '2010': 37, '2020': 14, '524': 1}\n",
      "Number of logged books published in the 1810s: 2\n",
      "Number of logged books published in the 1840s: 2\n",
      "Number of logged books published in the 1860s: 1\n",
      "Number of logged books published in the 1890s: 1\n",
      "Number of logged books published in the 1920s: 3\n",
      "Number of logged books published in the 1950s: 2\n",
      "Number of logged books published in the 1970s: 2\n",
      "Number of logged books published in the 1980s: 4\n",
      "Number of logged books published in the 1990s: 7\n",
      "Number of logged books published in the 2000s: 14\n",
      "Number of logged books published in the 2010s: 37\n",
      "Number of logged books published in the 2020s: 14\n",
      "Number of logged books published in the 524s: 1\n"
     ]
    }
   ],
   "source": [

    "# open the file \n",
    "with open(file_path, 'r') as f:\n",
    "    # parse throught it * some values contain commas - fix this \n",
    "    goodreadsLibrary = csv.DictReader(f, quotechar='\"')\n",
    "    # loop over a file, line-by-line\n",
    "    decades=[]\n",
    "    dcounter = Counter()\n",
    "    for i, row in enumerate(goodreadsLibrary):\n",
    "        if (row['Original Publication Year'] ==''):\n",
    "            decades.append(row['Year Published'])\n",
    "            #print(int(row['Year Published']))\n",
    "        else:\n",
    "            decades.append((row['Original Publication Year']))\n",
    "            #print(int(row['Original Publication Year']))\n",
    "    #print(decades)\n",
    "    \n",
    "    for d in decades:\n",
    "        dec = str(d)[:3]\n",
    "        dcounter[dec] += 1\n",
    "  \n",
    "    print(dcounter)\n",
    "\n",
    "decadesCount={}\n",
    "for k, v in dcounter.items():\n",
    "    if k.startswith('1') or k.startswith('2'):\n",
    "        decadesCount[k+'0'] = v\n",
    "    else: \n",
    "        decadesCount[k+'']= v\n",
    "\n",
    "\n",
    "print(decadesCount)\n",
    "decadesCount = dict(sorted(decadesCount.items()))\n",
    "print(decadesCount)\n",
    "\n",
    "#print(sorted(decadesCount.items()))  \n",
    "for y, c in decadesCount.items():   \n",
    "    print(\"Number of logged books published in the \" + y + \"s: \" + str(c))\n",
    "  "
   ]
  },
  {
   "cell_type": "code",
   "execution_count": 16,
   "metadata": {},
   "outputs": [
    {
     "name": "stdout",
     "output_type": "stream",
     "text": [
      "['All About Love: New Visions', 'Sense and Sensibility', \"On Earth We're Briefly Gorgeous\", 'The White Castle', 'Writers & Lovers', 'The Complete Persepolis', 'Before the Coffee Gets Cold (Before the Coffee Gets Cold, #1)', '101 Essays That Will Change The Way You Think', 'If Cats Disappeared from the World', 'The Lying Life of Adults', 'The Applicant', 'The Boy, the Mole, the Fox and the Horse', 'If Beale Street Could Talk', 'The Witch of Portobello', 'The Lemon Tree: An Arab, a Jew, and the Heart of the Middle East']\n",
      "Here are the stats for you book goal this year: \n",
      "{'read': 15, 'remaining': 8}\n"
     ]
    }
   ],
   "source": [

    "# open the file \n",
    "with open(file_path, 'r') as f:\n",
    "    # parse throught it * some values contain commas - fix this \n",
    "    goodreadsLibrary = csv.DictReader(f, quotechar='\"')\n",
    "    # loop over a file, line-by-line\n",
    "    booksGoal = 23\n",
    "    booksRead=[]\n",
    "    readCounter = Counter()\n",
    "    for i, row in enumerate(goodreadsLibrary):\n",
    "        if (row['Date Read'].startswith('2023')):\n",
    "            booksRead.append(row['Title'])\n",
    "            #print(int(row['Year Published']))\n",
    "        else:\n",
    "            pass\n",
    "    #print(decades)\n",
    "    year = {'read': 0, \"remaining\": 23}\n",
    "    for b in booksRead:\n",
    "        year['read']+=1\n",
    "        year['remaining']-=1\n",
    "    print(booksRead)\n",
    "    print(\"Here are the stats for you book goal this year: \\n\"+ str(year))"
   ]
  },
  {
   "cell_type": "code",
   "execution_count": 17,
   "metadata": {},
   "outputs": [
    {
     "name": "stdout",
     "output_type": "stream",
     "text": [
      "['currently-reading', 'to-read', 'to-read', 'read', 'currently-reading', 'to-read', 'to-read', 'read', 'to-read', 'to-read', 'to-read', 'to-read', 'to-read', 'to-read', 'to-read', 'read', 'read', 'read', 'to-read', 'to-read', 'to-read', 'to-read', 'to-read', 'currently-reading', 'read', 'to-read', 'read', 'read', 'to-read', 'to-read', 'to-read', 'read', 'read', 'to-read', 'read', 'read', 'to-read', 'to-read', 'to-read', 'to-read', 'to-read', 'read', 'to-read', 'read', 'read', 'read', 'to-read', 'to-read', 'read', 'read', 'read', 'read', 'read', 'read', 'to-read', 'to-read', 'read', 'to-read', 'to-read', 'read', 'read', 'to-read', 'read', 'read', 'read', 'to-read', 'read', 'read', 'read', 'read', 'read', 'read', 'read', 'read', 'to-read', 'to-read', 'read', 'read', 'read', 'read', 'read', 'read', 'read', 'read', 'read', 'read', 'read', 'read', 'read', 'read']\n",
      "Counter({'read': 50, 'to-read': 37, 'currently-reading': 3})\n"
     ]
    }
   ],
   "source": [

    "# open the file \n",
    "with open(file_path, 'r') as f:\n",
    "    # parse throught it * some values contain commas - fix this \n",
    "    goodreadsLibrary = csv.DictReader(f, quotechar='\"')\n",
    "    # loop over a file, line-by-line\n",
    "    shelves=[]\n",
    "    scounter = Counter()\n",
    "    for i, row in enumerate(goodreadsLibrary):\n",
    "        if (row['Exclusive Shelf'] !=''):\n",
    "            shelves.append(row['Exclusive Shelf'])\n",
    "            #print(int(row['Year Published']))\n",
    "        else:\n",
    "            shelves.append((row['Exclusive Shelf']))\n",
    "            #print(int(row['Original Publication Year']))\n",
    "    \n",
    "    for r in shelves:\n",
    "        scounter[r] += 1\n",
    "        \n",
    "    print(shelves)\n",
    "    print(scounter)"
   ]
  },
  {
   "cell_type": "code",
   "execution_count": 18,
   "metadata": {},
   "outputs": [
    {
     "data": {
      "image/png": "[encoded data removed]",
      "text/plain": [
       "<Figure size 640x480 with 1 Axes>"
      ]
     },
     "metadata": {},
     "output_type": "display_data"
    }
   ],
   "source": [
    "import matplotlib as plt\n",
    "import numpy as np\n",
    "from matplotlib import pyplot as plt\n",
    "\n",
    "X = monthlyPages22.keys()\n",
    "Ygirls = monthlyPages22.values()\n",
    "Zboys = monthlyPages23.values()\n",
    "  \n",
    "X_axis = np.arange(len(X))\n",
    "  \n",
    "plt.bar(X_axis - 0.2, Ygirls, 0.4, label = '2022')\n",
    "plt.bar(X_axis + 0.2, Zboys, 0.4, label = '2023')\n",
    "  \n",
    "plt.xticks(X_axis, X)\n",
    "plt.xlabel(\"months\")\n",
    "plt.ylabel(\"pages]\")\n",
    "plt.title(\"Number of Pages Read Each Month\")\n",
    "plt.legend()\n",
    "plt.show()"
   ]
  },
  {
   "cell_type": "code",
   "execution_count": 19,
   "metadata": {},
   "outputs": [
    {
     "data": {
      "text/plain": [
       "<BarContainer object of 13 artists>"
      ]
     },
     "execution_count": 19,
     "metadata": {},
     "output_type": "execute_result"
    },
    {
     "data": {
      "image/png": "[encoded data removed]",
      "text/plain": [
       "<Figure size 640x480 with 1 Axes>"
      ]
     },
     "metadata": {},
     "output_type": "display_data"
    }
   ],
   "source": [
    "plt.xticks(np.arange(len(decadesCount)), decadesCount.keys())\n",
    "plt.xlabel('decades')\n",
    "plt.ylabel('count')\n",
    "plt.title('my books are from what decades?')\n",
    "plt.bar(np.arange(len(decadesCount)), decadesCount.values(), 0.5, align=\"center\")"
   ]
  },
  {
   "cell_type": "code",
   "execution_count": 20,
   "metadata": {},
   "outputs": [
    {
     "data": {
      "text/plain": [
       "<BarContainer object of 2 artists>"
      ]
     },
     "execution_count": 20,
     "metadata": {},
     "output_type": "execute_result"
    },
    {
     "data": {
      "image/png": "[encoded data removed]",
      "text/plain": [
       "<Figure size 640x480 with 1 Axes>"
      ]
     },
     "metadata": {},
     "output_type": "display_data"
    }
   ],
   "source": [
    "plt.xticks(np.arange(len(year)), year.keys())\n",
    "plt.xlabel('read')\n",
    "plt.ylabel('books')\n",
    "plt.title('how far along am i on my goal for 2023')\n",
    "plt.bar(np.arange(len(year)), year.values(), 0.8, align=\"center\")"
   ]
  }
 ],
 "metadata": {
  "kernelspec": {
   "display_name": "Python 3",
   "language": "python",
   "name": "python3"
  },
  "language_info": {
   "codemirror_mode": {
    "name": "ipython",
    "version": 3
   },
   "file_extension": ".py",
   "mimetype": "text/x-python",
   "name": "python",
   "nbconvert_exporter": "python",
   "pygments_lexer": "ipython3",
   "version": "3.10.2"
  },
  "orig_nbformat": 4
 },
 "nbformat": 4,
 "nbformat_minor": 2
}
